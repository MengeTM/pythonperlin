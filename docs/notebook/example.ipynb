{
 "cells": [
  {
   "cell_type": "code",
   "execution_count": null,
   "metadata": {},
   "outputs": [],
   "source": [
    "import numpy as np\n",
    "import pylab as plt\n",
    "from pythonperlin import perlin\n",
    "from matplotlib.colors import LinearSegmentedColormap"
   ]
  },
  {
   "cell_type": "markdown",
   "metadata": {},
   "source": [
    "## Generate Perlin noise with octaves"
   ]
  },
  {
   "cell_type": "code",
   "execution_count": null,
   "metadata": {},
   "outputs": [],
   "source": [
    "# Set grid shape for randomly seeded gradients\n",
    "shape = (8,8)\n",
    "\n",
    "# Set density - output shape will be shape * dens = (256,256)\n",
    "dens = 32\n",
    "\n",
    "# Generate noise\n",
    "x = perlin(shape, dens=dens, seed=0)\n",
    "\n",
    "plt.figure(figsize=(6,6))\n",
    "plt.imshow(x, cmap=plt.get_cmap('viridis'))\n",
    "plt.axis('off')\n",
    "plt.show()\n",
    "\n",
    "# Generate noise with 2 additional octaves\n",
    "x = perlin(shape, dens=dens, seed=0, octaves=2)\n",
    "\n",
    "plt.figure(figsize=(6,6))\n",
    "plt.imshow(x, cmap=plt.get_cmap('viridis'))\n",
    "plt.axis('off')\n",
    "plt.show()"
   ]
  },
  {
   "cell_type": "markdown",
   "metadata": {},
   "source": [
    "## Generate water caustics"
   ]
  },
  {
   "cell_type": "code",
   "execution_count": null,
   "metadata": {},
   "outputs": [],
   "source": [
    "dens = 32\n",
    "shape = (8,8)\n",
    "x = perlin(shape, dens=dens)\n",
    "\n",
    "# Take absolute values of Perlin noise\n",
    "x = np.abs(x)\n",
    "\n",
    "# Log-scale colormap\n",
    "logscale = np.logspace(0,-3,5)\n",
    "colors = plt.cm.get_cmap('GnBu_r')(logscale)\n",
    "cmap = LinearSegmentedColormap.from_list('caustics', colors)\n",
    "\n",
    "plt.figure(figsize=(6,6))\n",
    "plt.imshow(x, cmap=cmap)\n",
    "plt.axis('off')\n",
    "plt.show()"
   ]
  },
  {
   "cell_type": "markdown",
   "metadata": {},
   "source": [
    "## Generate flower petals"
   ]
  },
  {
   "cell_type": "code",
   "execution_count": null,
   "metadata": {},
   "outputs": [],
   "source": [
    "dens = 32\n",
    "shape = (8,8)\n",
    "x = perlin(shape, dens=dens)\n",
    "\n",
    "n = 8\n",
    "delta = dens\n",
    "plt.figure(figsize=(6,6))\n",
    "for i in range(n):\n",
    "    r = x[delta * i] + 1\n",
    "    r = np.concatenate([r, (r[0],)])\n",
    "    phi = 2 * np.pi * np.linspace(0, 1, len(r))\n",
    "    scale = 1 - i / n\n",
    "    z = scale * r * np.exp(1j * phi)\n",
    "    ax = plt.gca()\n",
    "    zorder = max([ch.zorder for ch in ax.get_children()])\n",
    "    plt.fill(z.real, z.imag, c='dodgerblue', zorder=zorder+1)\n",
    "    plt.plot(z.real, z.imag, c='blue', lw=2, zorder=zorder+2)\n",
    "plt.axis('off')\n",
    "plt.show()"
   ]
  },
  {
   "cell_type": "markdown",
   "metadata": {},
   "source": [
    "## Generate vector field"
   ]
  },
  {
   "cell_type": "code",
   "execution_count": null,
   "metadata": {},
   "outputs": [],
   "source": [
    "dens = 6\n",
    "shape = (3,3)\n",
    "x = perlin(shape, dens=dens)\n",
    "z = np.exp(2j * np.pi * x)\n",
    "\n",
    "shape = z.shape\n",
    "plt.figure(figsize=(6,6))\n",
    "for i in range(shape[0]):\n",
    "    for j in range(shape[1]):\n",
    "        di = 0.5 * z[i,j].real\n",
    "        dj = 0.5 * z[i,j].imag\n",
    "        plt.arrow(i, j, di, dj, color='dodgerblue', width=0.1)\n",
    "plt.axis('off')\n",
    "plt.show()"
   ]
  }
 ],
 "metadata": {
  "kernelspec": {
   "display_name": "py3.9",
   "language": "python",
   "name": "py3.9"
  },
  "language_info": {
   "codemirror_mode": {
    "name": "ipython",
    "version": 3
   },
   "file_extension": ".py",
   "mimetype": "text/x-python",
   "name": "python",
   "nbconvert_exporter": "python",
   "pygments_lexer": "ipython3",
   "version": "3.9.10"
  }
 },
 "nbformat": 4,
 "nbformat_minor": 1
}
